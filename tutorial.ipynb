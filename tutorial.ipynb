{
 "cells": [
  {
   "cell_type": "markdown",
   "metadata": {},
   "source": [
    "1. Compute Core distances\n",
    "\n",
    "2. Compute MRG\n",
    "\n",
    "3. Build MST\n",
    "\n",
    "4. Dendodgram\n",
    "\n",
    "5. GLOSH\n",
    "\n",
    "6. Cluster Stability\n"
   ]
  },
  {
   "cell_type": "code",
   "execution_count": null,
   "metadata": {},
   "outputs": [],
   "source": [
    "import csv\n",
    "import math"
   ]
  },
  {
   "cell_type": "code",
   "execution_count": 3,
   "metadata": {},
   "outputs": [],
   "source": [
    "def get_data(wiht_label: bool = False) -> list[list]:\n",
    "    label = []\n",
    "    points = []\n",
    "\n",
    "    file_path = \"data/min_example.csv\"\n",
    "\n",
    "    with open(file_path, \"r\") as file:\n",
    "        reader = csv.DictReader(file)\n",
    "        for row in reader:\n",
    "            label.append(row[\"name\"])\n",
    "            points.append([int(row[\"x\"]), int(row[\"y\"])])\n",
    "\n",
    "    result = points if wiht_label == False else [label, points]\n",
    "    return result\n",
    "\n",
    "def get_data_with_label() -> dict:\n",
    "    result = {} # {label: [x, y]}\n",
    "\n",
    "    file_path = \"data/min_example.csv\"\n",
    "\n",
    "    with open(file_path, \"r\") as file:\n",
    "        reader = csv.DictReader(file)\n",
    "        for row in reader:\n",
    "            result[row[\"name\"]] = [int(row[\"x\"]), int(row[\"y\"])]\n",
    "\n",
    "    return result\n",
    "\n"
   ]
  },
  {
   "cell_type": "markdown",
   "metadata": {},
   "source": [
    "1. Calculating core distances"
   ]
  },
  {
   "cell_type": "code",
   "execution_count": null,
   "metadata": {},
   "outputs": [
    {
     "data": {
      "text/plain": [
       "{'a': 1.4142135623730951,\n",
       " 'b': 1.0,\n",
       " 'c': 1.4142135623730951,\n",
       " 'd': 1.4142135623730951,\n",
       " 'e': 1.0,\n",
       " 'f': 1.4142135623730951,\n",
       " 'g': 1.4142135623730951,\n",
       " 'h': 1.4142135623730951,\n",
       " 'i': 1.4142135623730951,\n",
       " 'j': 1.4142135623730951,\n",
       " 'k': 1.4142135623730951,\n",
       " 'l': 1.4142135623730951,\n",
       " 'm': 1.4142135623730951,\n",
       " 'n': 1.4142135623730951,\n",
       " 'o': 1.4142135623730951,\n",
       " 'p': 1.4142135623730951,\n",
       " 'q': 1.4142135623730951,\n",
       " 'r': 1.4142135623730951,\n",
       " 's': 3.0,\n",
       " 't': 4.0}"
      ]
     },
     "execution_count": 5,
     "metadata": {},
     "output_type": "execute_result"
    }
   ],
   "source": [
    "def calc_distance(x1: list, x2: list) -> float:\n",
    "    \"\"\"Calculates euclidean distance between two points\"\"\"\n",
    "    if len(x1) != len(x2):\n",
    "        raise ValueError(\"x1 and x2 must have equal sizes\")\n",
    "\n",
    "    sq_sum = 0\n",
    "    for i in range(len(x1)):\n",
    "        sq_sum += (x1[i] - x2[i]) ** 2\n",
    "    return math.sqrt(sq_sum)\n",
    "\n",
    "def calc_core_distances(data: list[list], label: list, minPts: int) -> dict:\n",
    "    result = {}\n",
    "    point_distances = []\n",
    "\n",
    "    for i, x1 in enumerate(data):\n",
    "        for x2 in data:\n",
    "            point_distances.append(calc_distance(x1, x2))\n",
    "        point_distances.sort()\n",
    "        core_distance = point_distances[minPts - 1]\n",
    "        result[label[i]] = core_distance\n",
    "        point_distances = []\n",
    "\n",
    "    return result"
   ]
  },
  {
   "cell_type": "markdown",
   "metadata": {},
   "source": [
    "2. Computing MRT\n"
   ]
  },
  {
   "cell_type": "code",
   "execution_count": null,
   "metadata": {},
   "outputs": [
    {
     "data": {
      "text/plain": [
       "'data/mrg.csv'"
      ]
     },
     "execution_count": 6,
     "metadata": {},
     "output_type": "execute_result"
    }
   ],
   "source": [
    "def calc_mrg(data: list, labels: list, minPts: int) -> dict:\n",
    "    result = {} # {label: [[mutual reachability distances, label]]}\n",
    "    core_distances = calc_core_distances(data, labels, minPts)\n",
    "\n",
    "    for i, x1 in enumerate(data):\n",
    "        x1_label = labels[i] \n",
    "        x1_cd = core_distances[x1_label] \n",
    "        for j, x2 in enumerate(data):\n",
    "            x2_label = labels[j]\n",
    "            x2_cd = core_distances[x2_label]\n",
    "            actual_distance = calc_distance(x1, x2)\n",
    "\n",
    "            mutual_reac_dist = max(x1_cd, x2_cd, actual_distance) # Calculating mreach\n",
    "            result[x1_label] = result.get(x1_label, [])\n",
    "            result[x1_label].append([mutual_reac_dist, x2_label])\n",
    "\n",
    "    return result\n",
    "\n",
    "\n",
    "def save_mrg(mrg: dict):\n",
    "    file_path = \"data/mrg.csv\"\n",
    "    headers =  sorted(mrg.keys())\n",
    "    rows = [[header, *[score[0] for score in mrg[header]]] for header in headers]\n",
    "\n",
    "    with open(file_path, \"w\") as file:\n",
    "        writer = csv.writer(file)\n",
    "        headers.insert(0, \"0\")\n",
    "        writer.writerow(headers)\n",
    "        writer.writerows(rows)\n",
    "    return file_path\n"
   ]
  },
  {
   "cell_type": "markdown",
   "metadata": {},
   "source": [
    "3. Building MST"
   ]
  },
  {
   "cell_type": "code",
   "execution_count": null,
   "metadata": {},
   "outputs": [
    {
     "name": "stdout",
     "output_type": "stream",
     "text": [
      "19\n",
      "[['b', 'e', 1.0], ['a', 'b', 1.4142135623730951], ['a', 'd', 1.4142135623730951], ['b', 'c', 1.4142135623730951], ['b', 'f', 1.4142135623730951], ['g', 'h', 1.4142135623730951], ['g', 'i', 1.4142135623730951], ['g', 'j', 1.4142135623730951], ['k', 'l', 1.4142135623730951], ['k', 'm', 1.4142135623730951], ['k', 'n', 1.4142135623730951], ['o', 'p', 1.4142135623730951], ['o', 'q', 1.4142135623730951], ['o', 'r', 1.4142135623730951], ['d', 'h', 2.0], ['l', 'q', 2.23606797749979], ['l', 's', 3.0], ['f', 's', 3.605551275463989], ['f', 't', 4.0]]\n"
     ]
    }
   ],
   "source": [
    "def is_connected(node1, node2, connected_nodes):\n",
    "    queue = [node1]\n",
    "    traversed = set()\n",
    "\n",
    "    while queue:\n",
    "        neighbor = queue.pop()\n",
    "        traversed.add(neighbor)\n",
    "\n",
    "        if neighbor == node2:\n",
    "            return True\n",
    "        for child_neighbor in connected_nodes.get(neighbor, []):\n",
    "            if not child_neighbor in traversed:\n",
    "                queue.append(child_neighbor)\n",
    "\n",
    "    return False\n",
    "\n",
    "def build_mst(mrg: dict):\n",
    "    edges = [] # [[node1, node2, weight], ...]\n",
    "    mst = [] # [[node1, node2, weight], ...]\n",
    "    connected_nodes = {}\n",
    "\n",
    "    for node1 in mrg.keys():\n",
    "        for (weight, node2) in mrg[node1]:\n",
    "            edges.append([node1, node2, weight])\n",
    "\n",
    "    edges = sorted(edges, key = lambda item: item[-1])\n",
    "\n",
    "    for edge in edges:\n",
    "        node1, node2, weight = edge \n",
    "        if node1 == node2:\n",
    "            continue\n",
    "\n",
    "        if not is_connected(node1, node2, connected_nodes):\n",
    "            mst.append(edge)\n",
    "            connected_nodes[node1] = connected_nodes.get(node1, []) + [node2]\n",
    "            connected_nodes[node2] = connected_nodes.get(node2, []) + [node1]\n",
    "\n",
    "    return mst"
   ]
  },
  {
   "cell_type": "code",
   "execution_count": null,
   "metadata": {},
   "outputs": [],
   "source": []
  },
  {
   "cell_type": "markdown",
   "metadata": {},
   "source": [
    "4. Dendogram"
   ]
  },
  {
   "cell_type": "code",
   "execution_count": null,
   "metadata": {},
   "outputs": [],
   "source": []
  }
 ],
 "metadata": {
  "kernelspec": {
   "display_name": "env",
   "language": "python",
   "name": "python3"
  },
  "language_info": {
   "codemirror_mode": {
    "name": "ipython",
    "version": 3
   },
   "file_extension": ".py",
   "mimetype": "text/x-python",
   "name": "python",
   "nbconvert_exporter": "python",
   "pygments_lexer": "ipython3",
   "version": "3.12.3"
  }
 },
 "nbformat": 4,
 "nbformat_minor": 2
}
