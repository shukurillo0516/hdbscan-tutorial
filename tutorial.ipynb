{
 "cells": [
  {
   "cell_type": "markdown",
   "metadata": {},
   "source": [
    "1. Compute Core distances\n",
    "\n",
    "2. Compute MRG\n",
    "\n",
    "3. Build MST\n",
    "\n",
    "4. Dendodgram\n",
    "\n",
    "5. GLOSH\n",
    "\n",
    "6. Cluster Stability\n"
   ]
  },
  {
   "cell_type": "code",
   "execution_count": 15,
   "metadata": {},
   "outputs": [],
   "source": [
    "import csv\n",
    "import math\n",
    "import sys"
   ]
  },
  {
   "cell_type": "code",
   "execution_count": 16,
   "metadata": {},
   "outputs": [],
   "source": [
    "minPts = 4"
   ]
  },
  {
   "cell_type": "code",
   "execution_count": 17,
   "metadata": {},
   "outputs": [],
   "source": [
    "def get_data(wiht_label: bool = False) -> list[list]:\n",
    "    label = []\n",
    "    points = []\n",
    "\n",
    "    file_path = \"data/min_example.csv\"\n",
    "\n",
    "    with open(file_path, \"r\") as file:\n",
    "        reader = csv.DictReader(file)\n",
    "        for row in reader:\n",
    "            label.append(row[\"name\"])\n",
    "            points.append([int(row[\"x\"]), int(row[\"y\"])])\n",
    "\n",
    "    result = points if wiht_label == False else [label, points]\n",
    "    return result\n",
    "\n",
    "def get_data_with_label() -> dict:\n",
    "    result = {} # {label: [x, y]}\n",
    "\n",
    "    file_path = \"data/min_example.csv\"\n",
    "\n",
    "    with open(file_path, \"r\") as file:\n",
    "        reader = csv.DictReader(file)\n",
    "        for row in reader:\n",
    "            result[row[\"name\"]] = [int(row[\"x\"]), int(row[\"y\"])]\n",
    "\n",
    "    return result\n",
    "\n"
   ]
  },
  {
   "cell_type": "markdown",
   "metadata": {},
   "source": [
    "1. Calculating core distances"
   ]
  },
  {
   "cell_type": "code",
   "execution_count": 18,
   "metadata": {},
   "outputs": [],
   "source": [
    "def calc_distance(x1: list, x2: list) -> float:\n",
    "    \"\"\"Calculates euclidean distance between two points\"\"\"\n",
    "    if len(x1) != len(x2):\n",
    "        raise ValueError(\"x1 and x2 must have equal sizes\")\n",
    "\n",
    "    sq_sum = 0\n",
    "    for i in range(len(x1)):\n",
    "        sq_sum += (x1[i] - x2[i]) ** 2\n",
    "    return math.sqrt(sq_sum)\n",
    "\n",
    "def calc_core_distances(data: list[list], label: list, minPts: int) -> dict:\n",
    "    result = {}\n",
    "    point_distances = []\n",
    "\n",
    "    for i, x1 in enumerate(data):\n",
    "        for x2 in data:\n",
    "            point_distances.append(calc_distance(x1, x2))\n",
    "        point_distances.sort()\n",
    "        core_distance = point_distances[minPts - 1]\n",
    "        result[label[i]] = core_distance\n",
    "        point_distances = []\n",
    "\n",
    "    return result"
   ]
  },
  {
   "cell_type": "markdown",
   "metadata": {},
   "source": [
    "2. Computing MRT\n"
   ]
  },
  {
   "cell_type": "code",
   "execution_count": 19,
   "metadata": {},
   "outputs": [
    {
     "data": {
      "text/plain": [
       "'data/mrg.csv'"
      ]
     },
     "execution_count": 19,
     "metadata": {},
     "output_type": "execute_result"
    }
   ],
   "source": [
    "def calc_mrg(data: list, labels: list, minPts: int) -> dict:\n",
    "    result = {} # {label: [[mutual reachability distances, label]]}\n",
    "    core_distances = calc_core_distances(data, labels, minPts)\n",
    "\n",
    "    for i, x1 in enumerate(data):\n",
    "        x1_label = labels[i] \n",
    "        x1_cd = core_distances[x1_label] \n",
    "        for j, x2 in enumerate(data):\n",
    "            x2_label = labels[j]\n",
    "            x2_cd = core_distances[x2_label]\n",
    "            actual_distance = calc_distance(x1, x2)\n",
    "\n",
    "            mutual_reac_dist = max(x1_cd, x2_cd, actual_distance) # Calculating\n",
    "            result[x1_label] = result.get(x1_label, [])\n",
    "            result[x1_label].append([mutual_reac_dist, x2_label])\n",
    "\n",
    "    return result\n",
    "\n",
    "\n",
    "def save_mrg(mrg: dict):\n",
    "    file_path = \"data/mrg.csv\"\n",
    "    headers =  sorted(mrg.keys())\n",
    "    rows = [[header, *[score[0] for score in mrg[header]]] for header in headers]\n",
    "\n",
    "    with open(file_path, \"w\") as file:\n",
    "        writer = csv.writer(file)\n",
    "        headers.insert(0, \"0\")\n",
    "        writer.writerow(headers)\n",
    "        writer.writerows(rows)\n",
    "    return file_path\n",
    "\n",
    "data = get_data(wiht_label=True)\n",
    "mrg = calc_mrg(data[1], data[0], minPts)\n",
    "\n",
    "save_mrg(mrg)"
   ]
  },
  {
   "cell_type": "markdown",
   "metadata": {},
   "source": [
    "3. Building MST"
   ]
  },
  {
   "cell_type": "markdown",
   "metadata": {},
   "source": [
    "3.1 Building MST using Prim's algorithm"
   ]
  },
  {
   "cell_type": "code",
   "execution_count": null,
   "metadata": {},
   "outputs": [],
   "source": [
    "import heapq\n",
    "\n",
    "def build_mst_prims(mrg: dict): \n",
    "    \"\"\"Time complexity = O(n^2 * log(n))\n",
    "    \"\"\"\n",
    "    labels = list(mrg.keys())\n",
    "    n = len(labels)\n",
    "    mst = []\n",
    "    discovered = set()\n",
    "    pq = [(0, labels[0], None)] # weigth, index\n",
    "    cache = {}\n",
    "\n",
    "    while not len(discovered) == n:\n",
    "        weight, node1, node2 = heapq.heappop(pq)\n",
    "        if node1 in discovered:\n",
    "            continue\n",
    "        discovered.add(node1)\n",
    "\n",
    "        if node2:\n",
    "            mst.append([node1, node2, weight])\n",
    "\n",
    "        for neighbor in mrg[node1]:\n",
    "            weight, node2 = neighbor\n",
    "            if node1 == node2 or node2 in discovered:\n",
    "                continue\n",
    "            if cache.get(node2, sys.maxsize) > weight:\n",
    "                cache[node2] = weight\n",
    "                heapq.heappush(pq, [weight, node2, node1]) \n",
    "\n",
    "    return mst\n"
   ]
  },
  {
   "cell_type": "markdown",
   "metadata": {},
   "source": [
    "3.2 Building MST using Kruskal algorithm"
   ]
  },
  {
   "cell_type": "code",
   "execution_count": 42,
   "metadata": {},
   "outputs": [],
   "source": [
    "import heapq\n",
    "\n",
    "class MstKruskal:\n",
    "    def __init__(self, mrg: dict):\n",
    "        self.mrg = mrg\n",
    "        self.labels = list(mrg.keys())\n",
    "\n",
    "    def find(self, node_i: int, parents: list[int]):\n",
    "        if parents[node_i] == node_i:\n",
    "            return node_i\n",
    "        return self.find(parents[node_i], parents)\n",
    "\n",
    "    def union(self, node1_i: int, node2_i: int, ranks: list[int], parents: list[int]):\n",
    "        if ranks[node1_i] > ranks[node2_i]:\n",
    "            ranks[node1_i] += ranks[node2_i]\n",
    "            parents[node2_i] = node1_i\n",
    "        elif ranks[node1_i] < ranks[node2_i]:\n",
    "            ranks[node2_i] += ranks[node1_i]\n",
    "            parents[node1_i] = node2_i\n",
    "        else:\n",
    "            ranks[node2_i] += 1\n",
    "            parents[node1_i] = node2_i\n",
    "\n",
    "    def compute(self):\n",
    "        \"\"\"Returns mst of given mrg.\n",
    "        E = number of edges = n^2\n",
    "        Time complexity O(E * log(E))\n",
    "        \"\"\"\n",
    "        n = len(self.labels)\n",
    "        parents = [i for i in range(n)]\n",
    "        ranks = [0] * n\n",
    "        mst = []\n",
    "        edges = []\n",
    "        for label in self.labels:\n",
    "            node_edges = [[edge[0], edge[1], label] for edge in self.mrg[label] if edge[1] != label]\n",
    "            edges.extend(node_edges)\n",
    "\n",
    "        heapq.heapify(edges) # Time complexity O(E)\n",
    "\n",
    "        while len(mst) != n - 1: \n",
    "            # O(E * log(E))\n",
    "            weight, node1, node2 = heapq.heappop(edges)  # Time complexity: O(log(E))\n",
    "            node1_i, node2_i = ord(node1) - ord('a'), ord(node2) - ord('a')\n",
    "\n",
    "            parent1, parent2 = self.find(node1_i, parents), self.find(node2_i, parents)  # Time comlexity considered: O(1)\n",
    "\n",
    "            if parent1 != parent2:\n",
    "                self.union(parent1, parent2, ranks, parents) # Time comlexity: O(1)\n",
    "                mst.append([node1, node2, weight])\n",
    "        return mst"
   ]
  },
  {
   "cell_type": "code",
   "execution_count": 41,
   "metadata": {},
   "outputs": [],
   "source": [
    "def save_mst(mst):\n",
    "    header = [\"Node1\", \"Node2\", \"Weight\"]\n",
    "    file_path = \"data/mst.csv\"\n",
    "\n",
    "    with open(file_path, \"w\") as file:\n",
    "        writer = csv.writer(file)\n",
    "        writer.writerow(header)\n",
    "        for row in mst:\n",
    "            node1, node2, weight = row\n",
    "            weight = round(weight, 2)\n",
    "            writer.writerow([node1, node2, weight])"
   ]
  },
  {
   "cell_type": "markdown",
   "metadata": {},
   "source": [
    "4. Dendogram"
   ]
  },
  {
   "cell_type": "code",
   "execution_count": null,
   "metadata": {},
   "outputs": [],
   "source": []
  }
 ],
 "metadata": {
  "kernelspec": {
   "display_name": "env",
   "language": "python",
   "name": "python3"
  },
  "language_info": {
   "codemirror_mode": {
    "name": "ipython",
    "version": 3
   },
   "file_extension": ".py",
   "mimetype": "text/x-python",
   "name": "python",
   "nbconvert_exporter": "python",
   "pygments_lexer": "ipython3",
   "version": "3.12.3"
  }
 },
 "nbformat": 4,
 "nbformat_minor": 2
}
